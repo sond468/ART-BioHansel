{
 "cells": [
  {
   "cell_type": "markdown",
   "metadata": {},
   "source": [
    "### Activating conda Environment That Contains art and bio_hansel\n",
    "* Ensure you have a conda environment that has the packages [art](https://bioconda.github.io/recipes/art/README.html) and [bio_hansel](https://anaconda.org/bioconda/bio_hansel) installed\n",
    "* The environment will need to be activated so that the rest of the Jupyter Notebook functions as intended to \n",
    "* In the cell below replace #envname with the name of your conda environment, then run the cell (shift+enter)"
   ]
  },
  {
   "cell_type": "code",
   "execution_count": null,
   "metadata": {},
   "outputs": [],
   "source": [
    "source activate #envname"
   ]
  },
  {
   "cell_type": "markdown",
   "metadata": {},
   "source": [
    "### Processing The Sequences Through art_illumina\n",
    "* First a .txt file named arts_list must be created\n",
    "* This .txt file will contain a list of all the provided genome file names\n",
    "* Ensure the genome files are in the same directory as this Jupyter Notebook\n",
    "* Run the next cell to create the arts_list.txt file"
   ]
  },
  {
   "cell_type": "code",
   "execution_count": null,
   "metadata": {},
   "outputs": [],
   "source": [
    "#This command will put all the .fna genome file names in a .txt file as a list\n",
    "ls *.fna > arts_list.txt"
   ]
  },
  {
   "cell_type": "markdown",
   "metadata": {},
   "source": [
    "* Must now run the script \"runningart_ART_DATA_MSv3_l250_f60_cluster.py\" to process the genome files into art_illumina\n",
    "* The script will run art_illumina with single-end reads, length of reads of 250, and fold of read coverage as 60\n",
    "* The script loops through the arts_list.txt file to know which files should be processed through art_illumina so ensure the previous code cell was ran"
   ]
  },
  {
   "cell_type": "code",
   "execution_count": null,
   "metadata": {},
   "outputs": [],
   "source": [
    "#Execute this cell to run the \"running_ART_DATA_MSv3_l250_f60_cluster.py\" script that will process the genomes through art\n",
    "python runningart_ART_DATA_MSv3_l250_f60_cluster.py"
   ]
  },
  {
   "cell_type": "markdown",
   "metadata": {},
   "source": [
    "### Running pc_calculator_combining_cluster.py\n",
    "* Before continuing to this step ensure all the art_illumina reads are finished\n",
    "* Can check if all the genomes were processed through art_illumina by seeing if all the newly generated .fq files are in your current directory \n",
    "* Before running \"pc_calculator_combining_cluster.py\" a .txt file named combining_list must be created. This .txt file will contain a list of all the newly generated .fq files \n",
    "* Run the next code cell to create this .txt file"
   ]
  },
  {
   "cell_type": "code",
   "execution_count": null,
   "metadata": {},
   "outputs": [],
   "source": [
    "ls *.fq > combining_list.txt"
   ]
  },
  {
   "cell_type": "markdown",
   "metadata": {},
   "source": [
    "* A new folder called \"combined_files\" will also need to be created\n",
    "* This folder will be where all the combined files will be created"
   ]
  },
  {
   "cell_type": "code",
   "execution_count": null,
   "metadata": {},
   "outputs": [],
   "source": [
    "mkdir combined_files"
   ]
  },
  {
   "cell_type": "markdown",
   "metadata": {},
   "source": [
    "* Next is to split each .fq file into two new .fq files based on the percentages. Then it will combine all the split .fq files to make every possible variation of with the other .fq files\n",
    "\n",
    "**EX**:\n",
    "* **Inputted**: file1.fq, file2.fq, file3.fq\n",
    "* **Inputted**: 0.10 (10%)\n",
    "* **Will create**: 0.10_file1.fq, 0.10_file2.fq, 0.10_file3.fq, 0.90_file1.fq, 0.90_file2.fq, 0.90_file3.fq\n",
    "* **Then create**: 0.10_file1_0.90_file1.fq, 0.10_file1_0.90_file2.fq, 0.10_file1_0.90_file3.fq,                              0.10_file2_0.90_file1.fq, 0.10_file2_0.90_file2.fq, 0.10_file2_0.90_file3.fq,                              0.10_file3_0.90_file1.fq, 0.10_file3_0.90_file2.fq, 0.10_file3_0.90_file3.fq \n",
    "\n",
    "Will end up with the 3 original .fq files and 15 new .fq files\n",
    "\n",
    "* The percentage desired can be typed in by replacing the ##percentage(0.00-1.00) in the next cell with your percentage float value"
   ]
  },
  {
   "cell_type": "code",
   "execution_count": null,
   "metadata": {},
   "outputs": [],
   "source": [
    "##Example: For 20% / 0.20\n",
    "##python pc_calculator_combining_cluster.py 0.20\n",
    "python pc_calculator_combining_cluster.py #percentage(0.00-1.00)"
   ]
  },
  {
   "cell_type": "markdown",
   "metadata": {},
   "source": [
    "### Running bio_hansel \n",
    "* Ensure the script \"pc_calculator_combining_cluster.py\" is complete before moving on\n",
    "* We must get the path of the current working directory and save it. This is so we can use the -D parameter in bio_hansel to process all the files"
   ]
  },
  {
   "cell_type": "code",
   "execution_count": null,
   "metadata": {},
   "outputs": [],
   "source": [
    "#run this cell to obtain the path of the current directory\n",
    "find_path=$(pwd)"
   ]
  },
  {
   "cell_type": "markdown",
   "metadata": {},
   "source": [
    "* Finally bio_hansel can be run on all the files in the folder combined_files"
   ]
  },
  {
   "cell_type": "code",
   "execution_count": null,
   "metadata": {},
   "outputs": [],
   "source": [
    "hansel -s heidelberg -o results.tab -D $find_path/combined_files"
   ]
  },
  {
   "cell_type": "code",
   "execution_count": null,
   "metadata": {},
   "outputs": [],
   "source": []
  }
 ],
 "metadata": {
  "kernelspec": {
   "display_name": "Bash",
   "language": "bash",
   "name": "bash"
  },
  "language_info": {
   "codemirror_mode": "shell",
   "file_extension": ".sh",
   "mimetype": "text/x-sh",
   "name": "bash"
  }
 },
 "nbformat": 4,
 "nbformat_minor": 2
}
